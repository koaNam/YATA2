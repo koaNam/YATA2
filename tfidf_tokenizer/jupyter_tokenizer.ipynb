{
 "cells": [
  {
   "cell_type": "code",
   "execution_count": 1,
   "metadata": {},
   "outputs": [],
   "source": [
    "corpus = [\n",
    "     'this is the first document',\n",
    "     'this document is the second document',\n",
    "     'and this is the third one',\n",
    "     'is this the first document',\n",
    "]"
   ]
  },
  {
   "cell_type": "code",
   "execution_count": 2,
   "metadata": {},
   "outputs": [],
   "source": [
    "from gensim.models import TfidfModel\n",
    "from gensim.corpora import Dictionary\n",
    "\n",
    "corp = [x.split(\" \") for x in corpus]\n",
    "dct = Dictionary(corp)  "
   ]
  },
  {
   "cell_type": "code",
   "execution_count": 3,
   "metadata": {},
   "outputs": [
    {
     "name": "stdout",
     "output_type": "stream",
     "text": [
      "0: document\n",
      "1: first\n",
      "2: is\n",
      "3: the\n",
      "4: this\n",
      "5: second\n",
      "6: and\n",
      "7: one\n",
      "8: third\n"
     ]
    }
   ],
   "source": [
    "for id in dct:\n",
    "    print(f\"{id}: {dct[id]}\")"
   ]
  },
  {
   "cell_type": "code",
   "execution_count": 64,
   "metadata": {},
   "outputs": [
    {
     "data": {
      "text/plain": [
       "[[(0, 1), (1, 1), (2, 1), (3, 1), (4, 1)],\n",
       " [(0, 2), (2, 1), (3, 1), (4, 1), (5, 1)],\n",
       " [(2, 1), (3, 1), (4, 1), (6, 1), (7, 1), (8, 1)],\n",
       " [(0, 1), (1, 1), (2, 1), (3, 1), (4, 1)]]"
      ]
     },
     "execution_count": 64,
     "metadata": {},
     "output_type": "execute_result"
    }
   ],
   "source": [
    "c = [dct.doc2bow(line) for line in corp]  \n",
    "\n",
    "model = TfidfModel(c)  "
   ]
  },
  {
   "cell_type": "code",
   "execution_count": 50,
   "metadata": {},
   "outputs": [
    {
     "data": {
      "text/plain": [
       "['this', 'is', 'a', 'test', 'document']"
      ]
     },
     "execution_count": 50,
     "metadata": {},
     "output_type": "execute_result"
    }
   ],
   "source": [
    "\"this is a test document\".split(\" \")"
   ]
  },
  {
   "cell_type": "code",
   "execution_count": 51,
   "metadata": {},
   "outputs": [
    {
     "data": {
      "text/plain": [
       "[]"
      ]
     },
     "execution_count": 51,
     "metadata": {},
     "output_type": "execute_result"
    }
   ],
   "source": [
    "dct.doc2bow(['EXPERT', 'WARN', 'BACKLASH', 'DONALD', 'TRUMPS', 'CHINA', 'TRADE', 'POLICIES', 'NEW', 'YORK', 'TIMES'])"
   ]
  },
  {
   "cell_type": "code",
   "execution_count": 69,
   "metadata": {},
   "outputs": [
    {
     "data": {
      "text/plain": [
       "['document: 1.0', 'is: 0.0', 'this: 0.0']"
      ]
     },
     "execution_count": 69,
     "metadata": {},
     "output_type": "execute_result"
    }
   ],
   "source": [
    "[(dct[i[0]] + \": \" + str(i[1])) for i in model.__getitem__(dct.doc2bow(\"this is a test document\".split(\" \")), eps=-1)]"
   ]
  },
  {
   "cell_type": "code",
   "execution_count": 73,
   "metadata": {},
   "outputs": [
    {
     "data": {
      "text/plain": [
       "[(0, 1.0), (2, 0.0), (4, 0.0)]"
      ]
     },
     "execution_count": 73,
     "metadata": {},
     "output_type": "execute_result"
    }
   ],
   "source": [
    "model.__getitem__(dct.doc2bow(\"this is a test document\".split(\" \")), eps=-1)"
   ]
  },
  {
   "cell_type": "code",
   "execution_count": 7,
   "metadata": {},
   "outputs": [
    {
     "data": {
      "text/plain": [
       "[]"
      ]
     },
     "execution_count": 7,
     "metadata": {},
     "output_type": "execute_result"
    }
   ],
   "source": [
    "[(dct[i[0]] + \": \" + str(i[1])) for i in model.__getitem__(dct.doc2bow(\"this is test\".split(\" \")), eps=0)]"
   ]
  },
  {
   "cell_type": "code",
   "execution_count": 8,
   "metadata": {},
   "outputs": [
    {
     "data": {
      "text/plain": [
       "['document: 0.383332888988391', 'first: 0.9236102512530996']"
      ]
     },
     "execution_count": 8,
     "metadata": {},
     "output_type": "execute_result"
    }
   ],
   "source": [
    "[(dct[i[0]] + \": \" + str(i[1])) for i in model[c[0]]]\n"
   ]
  },
  {
   "cell_type": "code",
   "execution_count": 66,
   "metadata": {},
   "outputs": [],
   "source": [
    "from elasticsearch import Elasticsearch\n",
    "from elasticsearch import helpers\n",
    "import spacy\n",
    "import re\n",
    "\n",
    "class ElasticCorpus:\n",
    "    \n",
    "    def __init__(self, host, port, username, password):\n",
    "        self.elastic = Elasticsearch([{'host':\"localhost\" , 'port': 9200}], http_auth=(\"elastic\",\"elastic\"))\n",
    "        self.space = spacy.load('en_core_web_sm')\n",
    "        self.dictonary = Dictionary()\n",
    "        \n",
    "    def __iter__(self):\n",
    "        for entry in helpers.scan(self.elastic, query={\"query\": {\"match_all\": {}}}, _source=[\"title\"], index=\"documents\", size=2000):\n",
    "            text = entry[\"_source\"][\"title\"]\n",
    "            text = re.sub('[^A-Za-z0-9 ]+', '', text)\n",
    "            text = re.sub(' +', ' ', text)\n",
    "            \n",
    "            doc = self.space(text)\n",
    "            tokens = [t.lemma_.upper() for t in doc if not t.is_stop]\n",
    "            self.dictonary.add_documents([tokens])\n",
    "            \n",
    "            print(self.counter)\n",
    "            \n",
    "            yield self.dictonary.doc2bow(tokens)"
   ]
  },
  {
   "cell_type": "code",
   "execution_count": 67,
   "metadata": {},
   "outputs": [],
   "source": [
    "ec = ElasticCorpus(\"localhost\", 9200, \"elastic\", \"elastic\")"
   ]
  },
  {
   "cell_type": "code",
   "execution_count": null,
   "metadata": {},
   "outputs": [],
   "source": [
    "model = TfidfModel(ec)  "
   ]
  },
  {
   "cell_type": "code",
   "execution_count": 76,
   "metadata": {},
   "outputs": [
    {
     "name": "stdout",
     "output_type": "stream",
     "text": [
      "Experts Warn of Backlash in Donald Trump’s China Trade Policies - The New York Times\n",
      "1\n"
     ]
    }
   ],
   "source": [
    "from elasticsearch import Elasticsearch\n",
    "from elasticsearch import helpers\n",
    "\n",
    "es = Elasticsearch([{'host':\"localhost\" , 'port': 9200}], http_auth=(\"elastic\",\"elastic\"))\n",
    "\n",
    "i=0\n",
    "for entry in helpers.scan(es, query={\"query\": {\"match_all\": {}}}, _source=[\"title\"], index=\"documents\", size=2000):\n",
    "    i = i +1\n",
    "    print(entry[\"_source\"][\"title\"])\n",
    "    break\n",
    "    \n",
    "print(i)"
   ]
  },
  {
   "cell_type": "code",
   "execution_count": 74,
   "metadata": {},
   "outputs": [
    {
     "data": {
      "text/plain": [
       "[12, 13, 14]"
      ]
     },
     "execution_count": 74,
     "metadata": {},
     "output_type": "execute_result"
    }
   ],
   "source": [
    "numList = [12, 13, 14, 15, 16]\n",
    "numList[:3]"
   ]
  },
  {
   "cell_type": "code",
   "execution_count": 80,
   "metadata": {},
   "outputs": [
    {
     "data": {
      "text/plain": [
       "50000"
      ]
     },
     "execution_count": 80,
     "metadata": {},
     "output_type": "execute_result"
    }
   ],
   "source": [
    "es.count(index='documents', body={'query': {\"match_all\": {}}})[\"count\"]"
   ]
  },
  {
   "cell_type": "code",
   "execution_count": null,
   "metadata": {},
   "outputs": [],
   "source": []
  }
 ],
 "metadata": {
  "kernelspec": {
   "display_name": "Python 3",
   "language": "python",
   "name": "python3"
  },
  "language_info": {
   "codemirror_mode": {
    "name": "ipython",
    "version": 3
   },
   "file_extension": ".py",
   "mimetype": "text/x-python",
   "name": "python",
   "nbconvert_exporter": "python",
   "pygments_lexer": "ipython3",
   "version": "3.8.5"
  }
 },
 "nbformat": 4,
 "nbformat_minor": 4
}
